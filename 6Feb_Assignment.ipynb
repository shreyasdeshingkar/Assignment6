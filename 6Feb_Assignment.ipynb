{
 "cells": [
  {
   "cell_type": "markdown",
   "id": "481e1437-0f3b-470d-b489-63a5d64c28c8",
   "metadata": {},
   "source": [
    "Que 1)Ans=>"
   ]
  },
  {
   "cell_type": "code",
   "execution_count": 1,
   "id": "f99977a9-3926-4ac9-848c-5f0ca434e3a4",
   "metadata": {},
   "outputs": [
    {
     "name": "stdout",
     "output_type": "stream",
     "text": [
      "578815684656168960\n"
     ]
    }
   ],
   "source": [
    "def product_of_numbers(lst):\n",
    "    flat_list = []\n",
    "    def flatten(lst):\n",
    "        for i in lst:\n",
    "            if type(i) in [list, tuple, set]:\n",
    "                flatten(i)\n",
    "            elif type(i) == int or type(i) == float:\n",
    "                flat_list.append(i)\n",
    "    flatten(lst)\n",
    "    product = 1\n",
    "    for num in flat_list:\n",
    "        product *= num\n",
    "    return product\n",
    "\n",
    "list1 = [1,2,3,4, [44,55,66, True], False, (34,56,78,89,34), {1,2,3,3,2,1}, {1:34, \"key2\": [55, 67, 78, 89], 4: (45, 22, 61, 34)}, [56, 'data science'], 'Machine Learning']\n",
    "print(product_of_numbers(list1))\n"
   ]
  },
  {
   "cell_type": "markdown",
   "id": "cbe59a74-0faa-4761-b8da-a8090f891fc5",
   "metadata": {},
   "source": [
    "Que 2)Ans=>"
   ]
  },
  {
   "cell_type": "code",
   "execution_count": 8,
   "id": "dab52c1f-9681-44d0-aa04-e2e0263e9fea",
   "metadata": {},
   "outputs": [
    {
     "name": "stdout",
     "output_type": "stream",
     "text": [
      "r$dzmg$gl$yvxlnv$z$wzgz$hxrvmgrhg.\n"
     ]
    }
   ],
   "source": [
    "\n",
    "def encrypt_message(message):\n",
    "    message = message.lower()\n",
    "    encrypted_message = \"\"\n",
    "    for char in message:\n",
    "        if char == ' ':\n",
    "            encrypted_message += \"$\"\n",
    "        elif char.isalpha():\n",
    "            encrypted_message += chr(122 - ord(char) + 97)\n",
    "        else:\n",
    "            encrypted_message += char\n",
    "    return encrypted_message\n",
    "\n",
    "message = \"I want to become a Data Scientist.\"\n",
    "print(encrypt_message(message))\n"
   ]
  }
 ],
 "metadata": {
  "kernelspec": {
   "display_name": "Python 3 (ipykernel)",
   "language": "python",
   "name": "python3"
  },
  "language_info": {
   "codemirror_mode": {
    "name": "ipython",
    "version": 3
   },
   "file_extension": ".py",
   "mimetype": "text/x-python",
   "name": "python",
   "nbconvert_exporter": "python",
   "pygments_lexer": "ipython3",
   "version": "3.10.8"
  }
 },
 "nbformat": 4,
 "nbformat_minor": 5
}
